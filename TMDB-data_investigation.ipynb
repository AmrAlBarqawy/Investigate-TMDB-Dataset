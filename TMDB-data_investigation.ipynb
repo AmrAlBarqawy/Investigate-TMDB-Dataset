{
 "cells": [
  {
   "cell_type": "markdown",
   "id": "e07e904f",
   "metadata": {},
   "source": [
    "# TMDB Data Investigation\n",
    "## Table of Contents\n",
    "<ul>\n",
    "<li><a href=\"#intro\">Introduction</a></li>\n",
    "<li><a href=\"#wrangling\">Data Wrangling</a></li>\n",
    "<li><a href=\"#eda\">Exploratory Data Analysis</a></li>\n",
    "<li><a href=\"#conclusions\">Conclusions</a></li>\n",
    "<li><a href=\"#limit\">Limitations</a></li>    \n",
    "</ul>"
   ]
  },
  {
   "cell_type": "markdown",
   "id": "a71641af",
   "metadata": {},
   "source": [
    "<a id='intro'></a>\n",
    "## Introduction\n",
    "> Using the [TMBD](https://www.themoviedb.org/) data we gonna try to investigate the properties associated with movies having high votes avg, high popularity, and high revenue."
   ]
  },
  {
   "cell_type": "code",
   "execution_count": 1,
   "id": "886f46c4",
   "metadata": {},
   "outputs": [],
   "source": [
    "import numpy as np\n",
    "import pandas as pd\n",
    "import matplotlib.pyplot as plt\n",
    "import seaborn as sns\n",
    "import math\n",
    "import re\n",
    "%matplotlib inline\n",
    "pd.set_option('display.max_columns', None)"
   ]
  },
  {
   "cell_type": "markdown",
   "id": "5f9b498e",
   "metadata": {},
   "source": [
    "## Data wrangling\n",
    "> To clean the data we gonna do the following\n",
    ">> 1- Drop any cloumns that we wont need in our analysis.\\\n",
    ">> 2- Drop any dublicated rows.\\\n",
    ">> 3- Drop any row having NaN values.\\\n",
    ">> 4- Drop any row having a value of 0 in budget or revenue columns.\\\n",
    ">> 5- Drop any row having a value of vote count less than the lower quartile.\n",
    "\n",
    "> We also gonna add a couple of useful columns\n",
    ">> 1- A gross profit column, which is the difference between the revenue and the budget.\\\n",
    ">> 2- A length column, which separate the moves into 4 categories for runtime."
   ]
  },
  {
   "cell_type": "code",
   "execution_count": 2,
   "id": "81df1fdc",
   "metadata": {},
   "outputs": [
    {
     "data": {
      "text/html": [
       "<div>\n",
       "<style scoped>\n",
       "    .dataframe tbody tr th:only-of-type {\n",
       "        vertical-align: middle;\n",
       "    }\n",
       "\n",
       "    .dataframe tbody tr th {\n",
       "        vertical-align: top;\n",
       "    }\n",
       "\n",
       "    .dataframe thead th {\n",
       "        text-align: right;\n",
       "    }\n",
       "</style>\n",
       "<table border=\"1\" class=\"dataframe\">\n",
       "  <thead>\n",
       "    <tr style=\"text-align: right;\">\n",
       "      <th></th>\n",
       "      <th>id</th>\n",
       "      <th>imdb_id</th>\n",
       "      <th>popularity</th>\n",
       "      <th>budget</th>\n",
       "      <th>revenue</th>\n",
       "      <th>original_title</th>\n",
       "      <th>cast</th>\n",
       "      <th>homepage</th>\n",
       "      <th>director</th>\n",
       "      <th>tagline</th>\n",
       "      <th>keywords</th>\n",
       "      <th>overview</th>\n",
       "      <th>runtime</th>\n",
       "      <th>genres</th>\n",
       "      <th>production_companies</th>\n",
       "      <th>release_date</th>\n",
       "      <th>vote_count</th>\n",
       "      <th>vote_average</th>\n",
       "      <th>release_year</th>\n",
       "      <th>budget_adj</th>\n",
       "      <th>revenue_adj</th>\n",
       "    </tr>\n",
       "  </thead>\n",
       "  <tbody>\n",
       "    <tr>\n",
       "      <th>0</th>\n",
       "      <td>135397</td>\n",
       "      <td>tt0369610</td>\n",
       "      <td>32.985763</td>\n",
       "      <td>150000000</td>\n",
       "      <td>1513528810</td>\n",
       "      <td>Jurassic World</td>\n",
       "      <td>Chris Pratt|Bryce Dallas Howard|Irrfan Khan|Vi...</td>\n",
       "      <td>http://www.jurassicworld.com/</td>\n",
       "      <td>Colin Trevorrow</td>\n",
       "      <td>The park is open.</td>\n",
       "      <td>monster|dna|tyrannosaurus rex|velociraptor|island</td>\n",
       "      <td>Twenty-two years after the events of Jurassic ...</td>\n",
       "      <td>124</td>\n",
       "      <td>Action|Adventure|Science Fiction|Thriller</td>\n",
       "      <td>Universal Studios|Amblin Entertainment|Legenda...</td>\n",
       "      <td>6/9/15</td>\n",
       "      <td>5562</td>\n",
       "      <td>6.5</td>\n",
       "      <td>2015</td>\n",
       "      <td>1.379999e+08</td>\n",
       "      <td>1.392446e+09</td>\n",
       "    </tr>\n",
       "    <tr>\n",
       "      <th>1</th>\n",
       "      <td>76341</td>\n",
       "      <td>tt1392190</td>\n",
       "      <td>28.419936</td>\n",
       "      <td>150000000</td>\n",
       "      <td>378436354</td>\n",
       "      <td>Mad Max: Fury Road</td>\n",
       "      <td>Tom Hardy|Charlize Theron|Hugh Keays-Byrne|Nic...</td>\n",
       "      <td>http://www.madmaxmovie.com/</td>\n",
       "      <td>George Miller</td>\n",
       "      <td>What a Lovely Day.</td>\n",
       "      <td>future|chase|post-apocalyptic|dystopia|australia</td>\n",
       "      <td>An apocalyptic story set in the furthest reach...</td>\n",
       "      <td>120</td>\n",
       "      <td>Action|Adventure|Science Fiction|Thriller</td>\n",
       "      <td>Village Roadshow Pictures|Kennedy Miller Produ...</td>\n",
       "      <td>5/13/15</td>\n",
       "      <td>6185</td>\n",
       "      <td>7.1</td>\n",
       "      <td>2015</td>\n",
       "      <td>1.379999e+08</td>\n",
       "      <td>3.481613e+08</td>\n",
       "    </tr>\n",
       "    <tr>\n",
       "      <th>2</th>\n",
       "      <td>262500</td>\n",
       "      <td>tt2908446</td>\n",
       "      <td>13.112507</td>\n",
       "      <td>110000000</td>\n",
       "      <td>295238201</td>\n",
       "      <td>Insurgent</td>\n",
       "      <td>Shailene Woodley|Theo James|Kate Winslet|Ansel...</td>\n",
       "      <td>http://www.thedivergentseries.movie/#insurgent</td>\n",
       "      <td>Robert Schwentke</td>\n",
       "      <td>One Choice Can Destroy You</td>\n",
       "      <td>based on novel|revolution|dystopia|sequel|dyst...</td>\n",
       "      <td>Beatrice Prior must confront her inner demons ...</td>\n",
       "      <td>119</td>\n",
       "      <td>Adventure|Science Fiction|Thriller</td>\n",
       "      <td>Summit Entertainment|Mandeville Films|Red Wago...</td>\n",
       "      <td>3/18/15</td>\n",
       "      <td>2480</td>\n",
       "      <td>6.3</td>\n",
       "      <td>2015</td>\n",
       "      <td>1.012000e+08</td>\n",
       "      <td>2.716190e+08</td>\n",
       "    </tr>\n",
       "    <tr>\n",
       "      <th>3</th>\n",
       "      <td>140607</td>\n",
       "      <td>tt2488496</td>\n",
       "      <td>11.173104</td>\n",
       "      <td>200000000</td>\n",
       "      <td>2068178225</td>\n",
       "      <td>Star Wars: The Force Awakens</td>\n",
       "      <td>Harrison Ford|Mark Hamill|Carrie Fisher|Adam D...</td>\n",
       "      <td>http://www.starwars.com/films/star-wars-episod...</td>\n",
       "      <td>J.J. Abrams</td>\n",
       "      <td>Every generation has a story.</td>\n",
       "      <td>android|spaceship|jedi|space opera|3d</td>\n",
       "      <td>Thirty years after defeating the Galactic Empi...</td>\n",
       "      <td>136</td>\n",
       "      <td>Action|Adventure|Science Fiction|Fantasy</td>\n",
       "      <td>Lucasfilm|Truenorth Productions|Bad Robot</td>\n",
       "      <td>12/15/15</td>\n",
       "      <td>5292</td>\n",
       "      <td>7.5</td>\n",
       "      <td>2015</td>\n",
       "      <td>1.839999e+08</td>\n",
       "      <td>1.902723e+09</td>\n",
       "    </tr>\n",
       "    <tr>\n",
       "      <th>4</th>\n",
       "      <td>168259</td>\n",
       "      <td>tt2820852</td>\n",
       "      <td>9.335014</td>\n",
       "      <td>190000000</td>\n",
       "      <td>1506249360</td>\n",
       "      <td>Furious 7</td>\n",
       "      <td>Vin Diesel|Paul Walker|Jason Statham|Michelle ...</td>\n",
       "      <td>http://www.furious7.com/</td>\n",
       "      <td>James Wan</td>\n",
       "      <td>Vengeance Hits Home</td>\n",
       "      <td>car race|speed|revenge|suspense|car</td>\n",
       "      <td>Deckard Shaw seeks revenge against Dominic Tor...</td>\n",
       "      <td>137</td>\n",
       "      <td>Action|Crime|Thriller</td>\n",
       "      <td>Universal Pictures|Original Film|Media Rights ...</td>\n",
       "      <td>4/1/15</td>\n",
       "      <td>2947</td>\n",
       "      <td>7.3</td>\n",
       "      <td>2015</td>\n",
       "      <td>1.747999e+08</td>\n",
       "      <td>1.385749e+09</td>\n",
       "    </tr>\n",
       "  </tbody>\n",
       "</table>\n",
       "</div>"
      ],
      "text/plain": [
       "       id    imdb_id  popularity     budget     revenue  \\\n",
       "0  135397  tt0369610   32.985763  150000000  1513528810   \n",
       "1   76341  tt1392190   28.419936  150000000   378436354   \n",
       "2  262500  tt2908446   13.112507  110000000   295238201   \n",
       "3  140607  tt2488496   11.173104  200000000  2068178225   \n",
       "4  168259  tt2820852    9.335014  190000000  1506249360   \n",
       "\n",
       "                 original_title  \\\n",
       "0                Jurassic World   \n",
       "1            Mad Max: Fury Road   \n",
       "2                     Insurgent   \n",
       "3  Star Wars: The Force Awakens   \n",
       "4                     Furious 7   \n",
       "\n",
       "                                                cast  \\\n",
       "0  Chris Pratt|Bryce Dallas Howard|Irrfan Khan|Vi...   \n",
       "1  Tom Hardy|Charlize Theron|Hugh Keays-Byrne|Nic...   \n",
       "2  Shailene Woodley|Theo James|Kate Winslet|Ansel...   \n",
       "3  Harrison Ford|Mark Hamill|Carrie Fisher|Adam D...   \n",
       "4  Vin Diesel|Paul Walker|Jason Statham|Michelle ...   \n",
       "\n",
       "                                            homepage          director  \\\n",
       "0                      http://www.jurassicworld.com/   Colin Trevorrow   \n",
       "1                        http://www.madmaxmovie.com/     George Miller   \n",
       "2     http://www.thedivergentseries.movie/#insurgent  Robert Schwentke   \n",
       "3  http://www.starwars.com/films/star-wars-episod...       J.J. Abrams   \n",
       "4                           http://www.furious7.com/         James Wan   \n",
       "\n",
       "                         tagline  \\\n",
       "0              The park is open.   \n",
       "1             What a Lovely Day.   \n",
       "2     One Choice Can Destroy You   \n",
       "3  Every generation has a story.   \n",
       "4            Vengeance Hits Home   \n",
       "\n",
       "                                            keywords  \\\n",
       "0  monster|dna|tyrannosaurus rex|velociraptor|island   \n",
       "1   future|chase|post-apocalyptic|dystopia|australia   \n",
       "2  based on novel|revolution|dystopia|sequel|dyst...   \n",
       "3              android|spaceship|jedi|space opera|3d   \n",
       "4                car race|speed|revenge|suspense|car   \n",
       "\n",
       "                                            overview  runtime  \\\n",
       "0  Twenty-two years after the events of Jurassic ...      124   \n",
       "1  An apocalyptic story set in the furthest reach...      120   \n",
       "2  Beatrice Prior must confront her inner demons ...      119   \n",
       "3  Thirty years after defeating the Galactic Empi...      136   \n",
       "4  Deckard Shaw seeks revenge against Dominic Tor...      137   \n",
       "\n",
       "                                      genres  \\\n",
       "0  Action|Adventure|Science Fiction|Thriller   \n",
       "1  Action|Adventure|Science Fiction|Thriller   \n",
       "2         Adventure|Science Fiction|Thriller   \n",
       "3   Action|Adventure|Science Fiction|Fantasy   \n",
       "4                      Action|Crime|Thriller   \n",
       "\n",
       "                                production_companies release_date  vote_count  \\\n",
       "0  Universal Studios|Amblin Entertainment|Legenda...       6/9/15        5562   \n",
       "1  Village Roadshow Pictures|Kennedy Miller Produ...      5/13/15        6185   \n",
       "2  Summit Entertainment|Mandeville Films|Red Wago...      3/18/15        2480   \n",
       "3          Lucasfilm|Truenorth Productions|Bad Robot     12/15/15        5292   \n",
       "4  Universal Pictures|Original Film|Media Rights ...       4/1/15        2947   \n",
       "\n",
       "   vote_average  release_year    budget_adj   revenue_adj  \n",
       "0           6.5          2015  1.379999e+08  1.392446e+09  \n",
       "1           7.1          2015  1.379999e+08  3.481613e+08  \n",
       "2           6.3          2015  1.012000e+08  2.716190e+08  \n",
       "3           7.5          2015  1.839999e+08  1.902723e+09  \n",
       "4           7.3          2015  1.747999e+08  1.385749e+09  "
      ]
     },
     "execution_count": 2,
     "metadata": {},
     "output_type": "execute_result"
    }
   ],
   "source": [
    "# loading the data set\n",
    "df=pd.read_csv('tmdb-movies.csv')\n",
    "df.head()"
   ]
  },
  {
   "cell_type": "markdown",
   "id": "9413f0ae",
   "metadata": {},
   "source": [
    "### Data Cleaning"
   ]
  },
  {
   "cell_type": "code",
   "execution_count": 3,
   "id": "a86ab399",
   "metadata": {},
   "outputs": [
    {
     "data": {
      "text/html": [
       "<div>\n",
       "<style scoped>\n",
       "    .dataframe tbody tr th:only-of-type {\n",
       "        vertical-align: middle;\n",
       "    }\n",
       "\n",
       "    .dataframe tbody tr th {\n",
       "        vertical-align: top;\n",
       "    }\n",
       "\n",
       "    .dataframe thead th {\n",
       "        text-align: right;\n",
       "    }\n",
       "</style>\n",
       "<table border=\"1\" class=\"dataframe\">\n",
       "  <thead>\n",
       "    <tr style=\"text-align: right;\">\n",
       "      <th></th>\n",
       "      <th>popularity</th>\n",
       "      <th>original_title</th>\n",
       "      <th>cast</th>\n",
       "      <th>director</th>\n",
       "      <th>runtime</th>\n",
       "      <th>genres</th>\n",
       "      <th>vote_count</th>\n",
       "      <th>vote_average</th>\n",
       "      <th>release_year</th>\n",
       "      <th>budget_adj</th>\n",
       "      <th>revenue_adj</th>\n",
       "    </tr>\n",
       "    <tr>\n",
       "      <th>id</th>\n",
       "      <th></th>\n",
       "      <th></th>\n",
       "      <th></th>\n",
       "      <th></th>\n",
       "      <th></th>\n",
       "      <th></th>\n",
       "      <th></th>\n",
       "      <th></th>\n",
       "      <th></th>\n",
       "      <th></th>\n",
       "      <th></th>\n",
       "    </tr>\n",
       "  </thead>\n",
       "  <tbody>\n",
       "    <tr>\n",
       "      <th>135397</th>\n",
       "      <td>32.985763</td>\n",
       "      <td>Jurassic World</td>\n",
       "      <td>Chris Pratt|Bryce Dallas Howard|Irrfan Khan|Vi...</td>\n",
       "      <td>Colin Trevorrow</td>\n",
       "      <td>124</td>\n",
       "      <td>Action|Adventure|Science Fiction|Thriller</td>\n",
       "      <td>5562</td>\n",
       "      <td>6.5</td>\n",
       "      <td>2015</td>\n",
       "      <td>1.379999e+08</td>\n",
       "      <td>1.392446e+09</td>\n",
       "    </tr>\n",
       "    <tr>\n",
       "      <th>76341</th>\n",
       "      <td>28.419936</td>\n",
       "      <td>Mad Max: Fury Road</td>\n",
       "      <td>Tom Hardy|Charlize Theron|Hugh Keays-Byrne|Nic...</td>\n",
       "      <td>George Miller</td>\n",
       "      <td>120</td>\n",
       "      <td>Action|Adventure|Science Fiction|Thriller</td>\n",
       "      <td>6185</td>\n",
       "      <td>7.1</td>\n",
       "      <td>2015</td>\n",
       "      <td>1.379999e+08</td>\n",
       "      <td>3.481613e+08</td>\n",
       "    </tr>\n",
       "    <tr>\n",
       "      <th>262500</th>\n",
       "      <td>13.112507</td>\n",
       "      <td>Insurgent</td>\n",
       "      <td>Shailene Woodley|Theo James|Kate Winslet|Ansel...</td>\n",
       "      <td>Robert Schwentke</td>\n",
       "      <td>119</td>\n",
       "      <td>Adventure|Science Fiction|Thriller</td>\n",
       "      <td>2480</td>\n",
       "      <td>6.3</td>\n",
       "      <td>2015</td>\n",
       "      <td>1.012000e+08</td>\n",
       "      <td>2.716190e+08</td>\n",
       "    </tr>\n",
       "    <tr>\n",
       "      <th>140607</th>\n",
       "      <td>11.173104</td>\n",
       "      <td>Star Wars: The Force Awakens</td>\n",
       "      <td>Harrison Ford|Mark Hamill|Carrie Fisher|Adam D...</td>\n",
       "      <td>J.J. Abrams</td>\n",
       "      <td>136</td>\n",
       "      <td>Action|Adventure|Science Fiction|Fantasy</td>\n",
       "      <td>5292</td>\n",
       "      <td>7.5</td>\n",
       "      <td>2015</td>\n",
       "      <td>1.839999e+08</td>\n",
       "      <td>1.902723e+09</td>\n",
       "    </tr>\n",
       "    <tr>\n",
       "      <th>168259</th>\n",
       "      <td>9.335014</td>\n",
       "      <td>Furious 7</td>\n",
       "      <td>Vin Diesel|Paul Walker|Jason Statham|Michelle ...</td>\n",
       "      <td>James Wan</td>\n",
       "      <td>137</td>\n",
       "      <td>Action|Crime|Thriller</td>\n",
       "      <td>2947</td>\n",
       "      <td>7.3</td>\n",
       "      <td>2015</td>\n",
       "      <td>1.747999e+08</td>\n",
       "      <td>1.385749e+09</td>\n",
       "    </tr>\n",
       "  </tbody>\n",
       "</table>\n",
       "</div>"
      ],
      "text/plain": [
       "        popularity                original_title  \\\n",
       "id                                                 \n",
       "135397   32.985763                Jurassic World   \n",
       "76341    28.419936            Mad Max: Fury Road   \n",
       "262500   13.112507                     Insurgent   \n",
       "140607   11.173104  Star Wars: The Force Awakens   \n",
       "168259    9.335014                     Furious 7   \n",
       "\n",
       "                                                     cast          director  \\\n",
       "id                                                                            \n",
       "135397  Chris Pratt|Bryce Dallas Howard|Irrfan Khan|Vi...   Colin Trevorrow   \n",
       "76341   Tom Hardy|Charlize Theron|Hugh Keays-Byrne|Nic...     George Miller   \n",
       "262500  Shailene Woodley|Theo James|Kate Winslet|Ansel...  Robert Schwentke   \n",
       "140607  Harrison Ford|Mark Hamill|Carrie Fisher|Adam D...       J.J. Abrams   \n",
       "168259  Vin Diesel|Paul Walker|Jason Statham|Michelle ...         James Wan   \n",
       "\n",
       "        runtime                                     genres  vote_count  \\\n",
       "id                                                                       \n",
       "135397      124  Action|Adventure|Science Fiction|Thriller        5562   \n",
       "76341       120  Action|Adventure|Science Fiction|Thriller        6185   \n",
       "262500      119         Adventure|Science Fiction|Thriller        2480   \n",
       "140607      136   Action|Adventure|Science Fiction|Fantasy        5292   \n",
       "168259      137                      Action|Crime|Thriller        2947   \n",
       "\n",
       "        vote_average  release_year    budget_adj   revenue_adj  \n",
       "id                                                              \n",
       "135397           6.5          2015  1.379999e+08  1.392446e+09  \n",
       "76341            7.1          2015  1.379999e+08  3.481613e+08  \n",
       "262500           6.3          2015  1.012000e+08  2.716190e+08  \n",
       "140607           7.5          2015  1.839999e+08  1.902723e+09  \n",
       "168259           7.3          2015  1.747999e+08  1.385749e+09  "
      ]
     },
     "execution_count": 3,
     "metadata": {},
     "output_type": "execute_result"
    }
   ],
   "source": [
    "# We don't need 2 different id's, we will choose to work with \"id\" as the index and drop the \"imdb_id\"\n",
    "# We will use the \"budget_adj\" and \"revenue_adj\" as they account for inflation over time, and will drop \"budget\" and \"revenue\"\n",
    "# \"homepage\", \"tagline\", \"overview\", \"keywords\",and \"production_companies\" are not useful for our analysis so will drop them\n",
    "# We only need the year of release, as we already have \"release_year\", we don't need \"release_date\"\n",
    "df.drop(['imdb_id','budget','revenue','homepage','tagline','overview','release_date','keywords','production_companies'],axis=1,inplace=True)\n",
    "df.set_index('id',inplace=True)\n",
    "df.head()"
   ]
  },
  {
   "cell_type": "code",
   "execution_count": 4,
   "id": "3e5ed0e1",
   "metadata": {},
   "outputs": [
    {
     "data": {
      "text/plain": [
       "1"
      ]
     },
     "execution_count": 4,
     "metadata": {},
     "output_type": "execute_result"
    }
   ],
   "source": [
    "# Check if there are any dup rows\n",
    "df.duplicated().sum()"
   ]
  },
  {
   "cell_type": "code",
   "execution_count": 5,
   "id": "2e682580",
   "metadata": {},
   "outputs": [
    {
     "data": {
      "text/plain": [
       "0"
      ]
     },
     "execution_count": 5,
     "metadata": {},
     "output_type": "execute_result"
    }
   ],
   "source": [
    "# Drop the dup rows\n",
    "df.drop_duplicates(inplace=True)\n",
    "df.duplicated().sum()"
   ]
  },
  {
   "cell_type": "code",
   "execution_count": 6,
   "id": "9f97c68c",
   "metadata": {},
   "outputs": [
    {
     "data": {
      "text/plain": [
       "((5696, 11), (6016, 11))"
      ]
     },
     "execution_count": 6,
     "metadata": {},
     "output_type": "execute_result"
    }
   ],
   "source": [
    "# Check if there any rows with 0 as the value of \"budget_adj\" or \"revenue_adj\"\n",
    "df[df['budget_adj'] == 0].shape , df[df['revenue_adj'] == 0].shape"
   ]
  },
  {
   "cell_type": "code",
   "execution_count": 7,
   "id": "5884766a",
   "metadata": {},
   "outputs": [
    {
     "data": {
      "text/plain": [
       "((0, 11), (0, 11))"
      ]
     },
     "execution_count": 7,
     "metadata": {},
     "output_type": "execute_result"
    }
   ],
   "source": [
    "# Drop any rows with 0 as the value of \"budget_adj\" or \"revenue_adj\"\n",
    "df=df[df['budget_adj'] != 0]\n",
    "df=df[df['revenue_adj'] != 0]\n",
    "df[df['budget_adj'] == 0].shape , df[df['revenue_adj'] == 0].shape"
   ]
  },
  {
   "cell_type": "code",
   "execution_count": 8,
   "id": "10a1411e",
   "metadata": {},
   "outputs": [
    {
     "name": "stdout",
     "output_type": "stream",
     "text": [
      "<class 'pandas.core.frame.DataFrame'>\n",
      "Int64Index: 3854 entries, 135397 to 2161\n",
      "Data columns (total 11 columns):\n",
      " #   Column          Non-Null Count  Dtype  \n",
      "---  ------          --------------  -----  \n",
      " 0   popularity      3854 non-null   float64\n",
      " 1   original_title  3854 non-null   object \n",
      " 2   cast            3850 non-null   object \n",
      " 3   director        3853 non-null   object \n",
      " 4   runtime         3854 non-null   int64  \n",
      " 5   genres          3854 non-null   object \n",
      " 6   vote_count      3854 non-null   int64  \n",
      " 7   vote_average    3854 non-null   float64\n",
      " 8   release_year    3854 non-null   int64  \n",
      " 9   budget_adj      3854 non-null   float64\n",
      " 10  revenue_adj     3854 non-null   float64\n",
      "dtypes: float64(4), int64(3), object(4)\n",
      "memory usage: 361.3+ KB\n"
     ]
    }
   ],
   "source": [
    "# Check that every column have the correct data type, and look for any null values \n",
    "df.info()"
   ]
  },
  {
   "cell_type": "code",
   "execution_count": 9,
   "id": "a9dcc9c2",
   "metadata": {},
   "outputs": [
    {
     "name": "stdout",
     "output_type": "stream",
     "text": [
      "<class 'pandas.core.frame.DataFrame'>\n",
      "Int64Index: 3849 entries, 135397 to 2161\n",
      "Data columns (total 11 columns):\n",
      " #   Column          Non-Null Count  Dtype  \n",
      "---  ------          --------------  -----  \n",
      " 0   popularity      3849 non-null   float64\n",
      " 1   original_title  3849 non-null   object \n",
      " 2   cast            3849 non-null   object \n",
      " 3   director        3849 non-null   object \n",
      " 4   runtime         3849 non-null   int64  \n",
      " 5   genres          3849 non-null   object \n",
      " 6   vote_count      3849 non-null   int64  \n",
      " 7   vote_average    3849 non-null   float64\n",
      " 8   release_year    3849 non-null   int64  \n",
      " 9   budget_adj      3849 non-null   float64\n",
      " 10  revenue_adj     3849 non-null   float64\n",
      "dtypes: float64(4), int64(3), object(4)\n",
      "memory usage: 360.8+ KB\n"
     ]
    }
   ],
   "source": [
    "# We can see that all column have the correct data type\n",
    "# We drop any row having null value\n",
    "df.dropna(inplace=True,axis=0)\n",
    "df.info()"
   ]
  },
  {
   "cell_type": "code",
   "execution_count": 10,
   "id": "f607414a",
   "metadata": {},
   "outputs": [
    {
     "data": {
      "text/plain": [
       "count    3849.000000\n",
       "mean      528.387114\n",
       "std       880.333629\n",
       "min        10.000000\n",
       "25%        71.000000\n",
       "50%       205.000000\n",
       "75%       581.000000\n",
       "max      9767.000000\n",
       "Name: vote_count, dtype: float64"
      ]
     },
     "execution_count": 10,
     "metadata": {},
     "output_type": "execute_result"
    }
   ],
   "source": [
    "# Getting the value of the lower quartile.\n",
    "df['vote_count'].describe()"
   ]
  },
  {
   "cell_type": "code",
   "execution_count": 11,
   "id": "94bd2218",
   "metadata": {},
   "outputs": [
    {
     "data": {
      "text/plain": [
       "(2892, 11)"
      ]
     },
     "execution_count": 11,
     "metadata": {},
     "output_type": "execute_result"
    }
   ],
   "source": [
    "# Drop any row with \"vote_count\" value less than the lower quartile.\n",
    "df=df[df['vote_count'] >= 71]\n",
    "df.shape"
   ]
  },
  {
   "cell_type": "markdown",
   "id": "0c8038dd",
   "metadata": {},
   "source": [
    "### Adding Useful columns"
   ]
  },
  {
   "cell_type": "code",
   "execution_count": 12,
   "id": "6b679b4e",
   "metadata": {},
   "outputs": [
    {
     "data": {
      "text/html": [
       "<div>\n",
       "<style scoped>\n",
       "    .dataframe tbody tr th:only-of-type {\n",
       "        vertical-align: middle;\n",
       "    }\n",
       "\n",
       "    .dataframe tbody tr th {\n",
       "        vertical-align: top;\n",
       "    }\n",
       "\n",
       "    .dataframe thead th {\n",
       "        text-align: right;\n",
       "    }\n",
       "</style>\n",
       "<table border=\"1\" class=\"dataframe\">\n",
       "  <thead>\n",
       "    <tr style=\"text-align: right;\">\n",
       "      <th></th>\n",
       "      <th>popularity</th>\n",
       "      <th>original_title</th>\n",
       "      <th>cast</th>\n",
       "      <th>director</th>\n",
       "      <th>runtime</th>\n",
       "      <th>genres</th>\n",
       "      <th>vote_count</th>\n",
       "      <th>vote_average</th>\n",
       "      <th>release_year</th>\n",
       "      <th>budget_adj</th>\n",
       "      <th>revenue_adj</th>\n",
       "      <th>gross_profit</th>\n",
       "    </tr>\n",
       "    <tr>\n",
       "      <th>id</th>\n",
       "      <th></th>\n",
       "      <th></th>\n",
       "      <th></th>\n",
       "      <th></th>\n",
       "      <th></th>\n",
       "      <th></th>\n",
       "      <th></th>\n",
       "      <th></th>\n",
       "      <th></th>\n",
       "      <th></th>\n",
       "      <th></th>\n",
       "      <th></th>\n",
       "    </tr>\n",
       "  </thead>\n",
       "  <tbody>\n",
       "    <tr>\n",
       "      <th>135397</th>\n",
       "      <td>32.985763</td>\n",
       "      <td>Jurassic World</td>\n",
       "      <td>Chris Pratt|Bryce Dallas Howard|Irrfan Khan|Vi...</td>\n",
       "      <td>Colin Trevorrow</td>\n",
       "      <td>124</td>\n",
       "      <td>Action|Adventure|Science Fiction|Thriller</td>\n",
       "      <td>5562</td>\n",
       "      <td>6.5</td>\n",
       "      <td>2015</td>\n",
       "      <td>1.379999e+08</td>\n",
       "      <td>1.392446e+09</td>\n",
       "      <td>1.254446e+09</td>\n",
       "    </tr>\n",
       "    <tr>\n",
       "      <th>76341</th>\n",
       "      <td>28.419936</td>\n",
       "      <td>Mad Max: Fury Road</td>\n",
       "      <td>Tom Hardy|Charlize Theron|Hugh Keays-Byrne|Nic...</td>\n",
       "      <td>George Miller</td>\n",
       "      <td>120</td>\n",
       "      <td>Action|Adventure|Science Fiction|Thriller</td>\n",
       "      <td>6185</td>\n",
       "      <td>7.1</td>\n",
       "      <td>2015</td>\n",
       "      <td>1.379999e+08</td>\n",
       "      <td>3.481613e+08</td>\n",
       "      <td>2.101614e+08</td>\n",
       "    </tr>\n",
       "    <tr>\n",
       "      <th>262500</th>\n",
       "      <td>13.112507</td>\n",
       "      <td>Insurgent</td>\n",
       "      <td>Shailene Woodley|Theo James|Kate Winslet|Ansel...</td>\n",
       "      <td>Robert Schwentke</td>\n",
       "      <td>119</td>\n",
       "      <td>Adventure|Science Fiction|Thriller</td>\n",
       "      <td>2480</td>\n",
       "      <td>6.3</td>\n",
       "      <td>2015</td>\n",
       "      <td>1.012000e+08</td>\n",
       "      <td>2.716190e+08</td>\n",
       "      <td>1.704191e+08</td>\n",
       "    </tr>\n",
       "    <tr>\n",
       "      <th>140607</th>\n",
       "      <td>11.173104</td>\n",
       "      <td>Star Wars: The Force Awakens</td>\n",
       "      <td>Harrison Ford|Mark Hamill|Carrie Fisher|Adam D...</td>\n",
       "      <td>J.J. Abrams</td>\n",
       "      <td>136</td>\n",
       "      <td>Action|Adventure|Science Fiction|Fantasy</td>\n",
       "      <td>5292</td>\n",
       "      <td>7.5</td>\n",
       "      <td>2015</td>\n",
       "      <td>1.839999e+08</td>\n",
       "      <td>1.902723e+09</td>\n",
       "      <td>1.718723e+09</td>\n",
       "    </tr>\n",
       "    <tr>\n",
       "      <th>168259</th>\n",
       "      <td>9.335014</td>\n",
       "      <td>Furious 7</td>\n",
       "      <td>Vin Diesel|Paul Walker|Jason Statham|Michelle ...</td>\n",
       "      <td>James Wan</td>\n",
       "      <td>137</td>\n",
       "      <td>Action|Crime|Thriller</td>\n",
       "      <td>2947</td>\n",
       "      <td>7.3</td>\n",
       "      <td>2015</td>\n",
       "      <td>1.747999e+08</td>\n",
       "      <td>1.385749e+09</td>\n",
       "      <td>1.210949e+09</td>\n",
       "    </tr>\n",
       "  </tbody>\n",
       "</table>\n",
       "</div>"
      ],
      "text/plain": [
       "        popularity                original_title  \\\n",
       "id                                                 \n",
       "135397   32.985763                Jurassic World   \n",
       "76341    28.419936            Mad Max: Fury Road   \n",
       "262500   13.112507                     Insurgent   \n",
       "140607   11.173104  Star Wars: The Force Awakens   \n",
       "168259    9.335014                     Furious 7   \n",
       "\n",
       "                                                     cast          director  \\\n",
       "id                                                                            \n",
       "135397  Chris Pratt|Bryce Dallas Howard|Irrfan Khan|Vi...   Colin Trevorrow   \n",
       "76341   Tom Hardy|Charlize Theron|Hugh Keays-Byrne|Nic...     George Miller   \n",
       "262500  Shailene Woodley|Theo James|Kate Winslet|Ansel...  Robert Schwentke   \n",
       "140607  Harrison Ford|Mark Hamill|Carrie Fisher|Adam D...       J.J. Abrams   \n",
       "168259  Vin Diesel|Paul Walker|Jason Statham|Michelle ...         James Wan   \n",
       "\n",
       "        runtime                                     genres  vote_count  \\\n",
       "id                                                                       \n",
       "135397      124  Action|Adventure|Science Fiction|Thriller        5562   \n",
       "76341       120  Action|Adventure|Science Fiction|Thriller        6185   \n",
       "262500      119         Adventure|Science Fiction|Thriller        2480   \n",
       "140607      136   Action|Adventure|Science Fiction|Fantasy        5292   \n",
       "168259      137                      Action|Crime|Thriller        2947   \n",
       "\n",
       "        vote_average  release_year    budget_adj   revenue_adj  gross_profit  \n",
       "id                                                                            \n",
       "135397           6.5          2015  1.379999e+08  1.392446e+09  1.254446e+09  \n",
       "76341            7.1          2015  1.379999e+08  3.481613e+08  2.101614e+08  \n",
       "262500           6.3          2015  1.012000e+08  2.716190e+08  1.704191e+08  \n",
       "140607           7.5          2015  1.839999e+08  1.902723e+09  1.718723e+09  \n",
       "168259           7.3          2015  1.747999e+08  1.385749e+09  1.210949e+09  "
      ]
     },
     "execution_count": 12,
     "metadata": {},
     "output_type": "execute_result"
    }
   ],
   "source": [
    "# Adding \"gross_profit\" cloumn which capture the difference between \"revenue_adj\" and \"budget_adj\"\n",
    "df['gross_profit']=df['revenue_adj']-df['budget_adj']\n",
    "df.head()"
   ]
  },
  {
   "cell_type": "code",
   "execution_count": 13,
   "id": "0bff2310",
   "metadata": {},
   "outputs": [
    {
     "data": {
      "text/plain": [
       "count    2892.000000\n",
       "mean      110.349585\n",
       "std        19.540728\n",
       "min        26.000000\n",
       "25%        96.750000\n",
       "50%       107.000000\n",
       "75%       121.000000\n",
       "max       216.000000\n",
       "Name: runtime, dtype: float64"
      ]
     },
     "execution_count": 13,
     "metadata": {},
     "output_type": "execute_result"
    }
   ],
   "source": [
    "# Getting the values of max, Q1, Q2, Q3, min of \"runtime\" to use to group movies into 4 groups.\n",
    "df['runtime'].describe()"
   ]
  },
  {
   "cell_type": "code",
   "execution_count": 14,
   "id": "d09298bf",
   "metadata": {},
   "outputs": [
    {
     "data": {
      "text/html": [
       "<div>\n",
       "<style scoped>\n",
       "    .dataframe tbody tr th:only-of-type {\n",
       "        vertical-align: middle;\n",
       "    }\n",
       "\n",
       "    .dataframe tbody tr th {\n",
       "        vertical-align: top;\n",
       "    }\n",
       "\n",
       "    .dataframe thead th {\n",
       "        text-align: right;\n",
       "    }\n",
       "</style>\n",
       "<table border=\"1\" class=\"dataframe\">\n",
       "  <thead>\n",
       "    <tr style=\"text-align: right;\">\n",
       "      <th></th>\n",
       "      <th>popularity</th>\n",
       "      <th>original_title</th>\n",
       "      <th>cast</th>\n",
       "      <th>director</th>\n",
       "      <th>runtime</th>\n",
       "      <th>genres</th>\n",
       "      <th>vote_count</th>\n",
       "      <th>vote_average</th>\n",
       "      <th>release_year</th>\n",
       "      <th>budget_adj</th>\n",
       "      <th>revenue_adj</th>\n",
       "      <th>gross_profit</th>\n",
       "      <th>length</th>\n",
       "    </tr>\n",
       "    <tr>\n",
       "      <th>id</th>\n",
       "      <th></th>\n",
       "      <th></th>\n",
       "      <th></th>\n",
       "      <th></th>\n",
       "      <th></th>\n",
       "      <th></th>\n",
       "      <th></th>\n",
       "      <th></th>\n",
       "      <th></th>\n",
       "      <th></th>\n",
       "      <th></th>\n",
       "      <th></th>\n",
       "      <th></th>\n",
       "    </tr>\n",
       "  </thead>\n",
       "  <tbody>\n",
       "    <tr>\n",
       "      <th>135397</th>\n",
       "      <td>32.985763</td>\n",
       "      <td>Jurassic World</td>\n",
       "      <td>Chris Pratt|Bryce Dallas Howard|Irrfan Khan|Vi...</td>\n",
       "      <td>Colin Trevorrow</td>\n",
       "      <td>124</td>\n",
       "      <td>Action|Adventure|Science Fiction|Thriller</td>\n",
       "      <td>5562</td>\n",
       "      <td>6.5</td>\n",
       "      <td>2015</td>\n",
       "      <td>1.379999e+08</td>\n",
       "      <td>1.392446e+09</td>\n",
       "      <td>1.254446e+09</td>\n",
       "      <td>very long</td>\n",
       "    </tr>\n",
       "    <tr>\n",
       "      <th>76341</th>\n",
       "      <td>28.419936</td>\n",
       "      <td>Mad Max: Fury Road</td>\n",
       "      <td>Tom Hardy|Charlize Theron|Hugh Keays-Byrne|Nic...</td>\n",
       "      <td>George Miller</td>\n",
       "      <td>120</td>\n",
       "      <td>Action|Adventure|Science Fiction|Thriller</td>\n",
       "      <td>6185</td>\n",
       "      <td>7.1</td>\n",
       "      <td>2015</td>\n",
       "      <td>1.379999e+08</td>\n",
       "      <td>3.481613e+08</td>\n",
       "      <td>2.101614e+08</td>\n",
       "      <td>long</td>\n",
       "    </tr>\n",
       "    <tr>\n",
       "      <th>262500</th>\n",
       "      <td>13.112507</td>\n",
       "      <td>Insurgent</td>\n",
       "      <td>Shailene Woodley|Theo James|Kate Winslet|Ansel...</td>\n",
       "      <td>Robert Schwentke</td>\n",
       "      <td>119</td>\n",
       "      <td>Adventure|Science Fiction|Thriller</td>\n",
       "      <td>2480</td>\n",
       "      <td>6.3</td>\n",
       "      <td>2015</td>\n",
       "      <td>1.012000e+08</td>\n",
       "      <td>2.716190e+08</td>\n",
       "      <td>1.704191e+08</td>\n",
       "      <td>long</td>\n",
       "    </tr>\n",
       "    <tr>\n",
       "      <th>140607</th>\n",
       "      <td>11.173104</td>\n",
       "      <td>Star Wars: The Force Awakens</td>\n",
       "      <td>Harrison Ford|Mark Hamill|Carrie Fisher|Adam D...</td>\n",
       "      <td>J.J. Abrams</td>\n",
       "      <td>136</td>\n",
       "      <td>Action|Adventure|Science Fiction|Fantasy</td>\n",
       "      <td>5292</td>\n",
       "      <td>7.5</td>\n",
       "      <td>2015</td>\n",
       "      <td>1.839999e+08</td>\n",
       "      <td>1.902723e+09</td>\n",
       "      <td>1.718723e+09</td>\n",
       "      <td>very long</td>\n",
       "    </tr>\n",
       "    <tr>\n",
       "      <th>168259</th>\n",
       "      <td>9.335014</td>\n",
       "      <td>Furious 7</td>\n",
       "      <td>Vin Diesel|Paul Walker|Jason Statham|Michelle ...</td>\n",
       "      <td>James Wan</td>\n",
       "      <td>137</td>\n",
       "      <td>Action|Crime|Thriller</td>\n",
       "      <td>2947</td>\n",
       "      <td>7.3</td>\n",
       "      <td>2015</td>\n",
       "      <td>1.747999e+08</td>\n",
       "      <td>1.385749e+09</td>\n",
       "      <td>1.210949e+09</td>\n",
       "      <td>very long</td>\n",
       "    </tr>\n",
       "  </tbody>\n",
       "</table>\n",
       "</div>"
      ],
      "text/plain": [
       "        popularity                original_title  \\\n",
       "id                                                 \n",
       "135397   32.985763                Jurassic World   \n",
       "76341    28.419936            Mad Max: Fury Road   \n",
       "262500   13.112507                     Insurgent   \n",
       "140607   11.173104  Star Wars: The Force Awakens   \n",
       "168259    9.335014                     Furious 7   \n",
       "\n",
       "                                                     cast          director  \\\n",
       "id                                                                            \n",
       "135397  Chris Pratt|Bryce Dallas Howard|Irrfan Khan|Vi...   Colin Trevorrow   \n",
       "76341   Tom Hardy|Charlize Theron|Hugh Keays-Byrne|Nic...     George Miller   \n",
       "262500  Shailene Woodley|Theo James|Kate Winslet|Ansel...  Robert Schwentke   \n",
       "140607  Harrison Ford|Mark Hamill|Carrie Fisher|Adam D...       J.J. Abrams   \n",
       "168259  Vin Diesel|Paul Walker|Jason Statham|Michelle ...         James Wan   \n",
       "\n",
       "        runtime                                     genres  vote_count  \\\n",
       "id                                                                       \n",
       "135397      124  Action|Adventure|Science Fiction|Thriller        5562   \n",
       "76341       120  Action|Adventure|Science Fiction|Thriller        6185   \n",
       "262500      119         Adventure|Science Fiction|Thriller        2480   \n",
       "140607      136   Action|Adventure|Science Fiction|Fantasy        5292   \n",
       "168259      137                      Action|Crime|Thriller        2947   \n",
       "\n",
       "        vote_average  release_year    budget_adj   revenue_adj  gross_profit  \\\n",
       "id                                                                             \n",
       "135397           6.5          2015  1.379999e+08  1.392446e+09  1.254446e+09   \n",
       "76341            7.1          2015  1.379999e+08  3.481613e+08  2.101614e+08   \n",
       "262500           6.3          2015  1.012000e+08  2.716190e+08  1.704191e+08   \n",
       "140607           7.5          2015  1.839999e+08  1.902723e+09  1.718723e+09   \n",
       "168259           7.3          2015  1.747999e+08  1.385749e+09  1.210949e+09   \n",
       "\n",
       "           length  \n",
       "id                 \n",
       "135397  very long  \n",
       "76341        long  \n",
       "262500       long  \n",
       "140607  very long  \n",
       "168259  very long  "
      ]
     },
     "execution_count": 14,
     "metadata": {},
     "output_type": "execute_result"
    }
   ],
   "source": [
    "# Adding \"length\" column which sperate the movies into 4 groups wrt thier runtime.\n",
    "bin_edges = [26, 96, 107, 121, 216]\n",
    "bin_names = ['very short','short','long','very long' ]\n",
    "df['length'] = pd.cut(df['runtime'],bin_edges, labels=bin_names)\n",
    "df.head()"
   ]
  },
  {
   "cell_type": "code",
   "execution_count": 15,
   "id": "33aa5d4f",
   "metadata": {},
   "outputs": [],
   "source": [
    "# Saving the cleaned data\n",
    "df.to_csv('TMDB_clean.csv')"
   ]
  },
  {
   "cell_type": "markdown",
   "id": "ef000709",
   "metadata": {},
   "source": [
    "<a id='eda'></a>\n",
    "## Exploratory Data Analysis\n",
    "> In an effort of investigate the properties associated with movies having high votes avg, high popularity, and high revenue, we will have some questions and will try to answer them using the data in hand."
   ]
  },
  {
   "cell_type": "markdown",
   "id": "bd496643",
   "metadata": {},
   "source": [
    "#### Before we try to answer some question, first we want to see if things we know by intuition are really correct in this data set\n",
    "> Do longer movies cost more?\\\n",
    "> Do better rated movies profits more?\\\n",
    "> Do better rated movies more popular?\n",
    "\n",
    "We expect the answer to all of those question to be \"yes\", lets see if that is true"
   ]
  },
  {
   "cell_type": "code",
   "execution_count": 16,
   "id": "ac5d514d",
   "metadata": {},
   "outputs": [
    {
     "data": {
      "image/png": "[encoded data removed]",
      "text/plain": [
       "<Figure size 432x288 with 1 Axes>"
      ]
     },
     "metadata": {
      "needs_background": "light"
     },
     "output_type": "display_data"
    }
   ],
   "source": [
    "# Plotting the relation between \"lenght\" and \"budget_adj\"\n",
    "plt.bar(df.groupby('length').mean()['budget_adj'].index,df.groupby('length').mean()['budget_adj'].values)\n",
    "plt.title('')\n",
    "plt.xlabel('Runtime')\n",
    "plt.ylabel('Budget');"
   ]
  },
  {
   "cell_type": "markdown",
   "id": "3d6f71a0",
   "metadata": {},
   "source": [
    "As expected, we can see that the longer the movie, the more it cost"
   ]
  },
  {
   "cell_type": "code",
   "execution_count": 17,
   "id": "5c10b631",
   "metadata": {},
   "outputs": [
    {
     "data": {
      "image/png": "[encoded data removed]",
      "text/plain": [
       "<Figure size 720x576 with 1 Axes>"
      ]
     },
     "metadata": {
      "needs_background": "light"
     },
     "output_type": "display_data"
    }
   ],
   "source": [
    "# Plotting the relation between \"vote_average\" and \"gross_profit\"\n",
    "plt.figure(figsize=(10, 8))\n",
    "plt.scatter(df['vote_average'],df['gross_profit'])\n",
    "plt.title('')\n",
    "plt.xlabel('Votes Avg')\n",
    "plt.ylabel('Gross Profit');"
   ]
  },
  {
   "cell_type": "markdown",
   "id": "7b0c7b8e",
   "metadata": {},
   "source": [
    "Again, as expected, we can see that the movies with high rating score profit more."
   ]
  },
  {
   "cell_type": "code",
   "execution_count": 18,
   "id": "a8fc1a10",
   "metadata": {},
   "outputs": [
    {
     "data": {
      "image/png": "[encoded data removed]",
      "text/plain": [
       "<Figure size 720x576 with 1 Axes>"
      ]
     },
     "metadata": {
      "needs_background": "light"
     },
     "output_type": "display_data"
    }
   ],
   "source": [
    "# Plotting the relation between \"vote_average\" and \"popularity\"\n",
    "plt.figure(figsize=(10, 8))\n",
    "plt.scatter(df['vote_average'],df['popularity'])\n",
    "plt.title('')\n",
    "plt.xlabel('Votes Avg')\n",
    "plt.ylabel('Popularity');"
   ]
  },
  {
   "cell_type": "markdown",
   "id": "15e223b5",
   "metadata": {},
   "source": [
    "Also , as expected, we can see that the movies with high rating score are more popular."
   ]
  },
  {
   "cell_type": "markdown",
   "id": "a6744754",
   "metadata": {},
   "source": [
    "### Questions\n",
    "<ul>\n",
    "<li><a href=\"#Q1\">How does movie budget affect its gross profit, votes avg, and popularity?</a></li>\n",
    "<li><a href=\"#Q2\">How does movie runtime affect its gross profit, votes avg, and popularity?</a></li>\n",
    "<li><a href=\"#Q3\">How does the length of movies change with time?</a></li>    \n",
    "<li><a href=\"#Q4\">Are movies becoming better/more profitable with time?</a></li>\n",
    "</ul>"
   ]
  },
  {
   "cell_type": "markdown",
   "id": "52ed43c5",
   "metadata": {},
   "source": [
    "<a id='Q1'></a>\n",
    "### How does budget affect gross profit, votes avg, and popularity?"
   ]
  },
  {
   "cell_type": "code",
   "execution_count": 19,
   "id": "8e14d9e9",
   "metadata": {},
   "outputs": [
    {
     "data": {
      "image/png": "[encoded data removed]",
      "text/plain": [
       "<Figure size 720x576 with 1 Axes>"
      ]
     },
     "metadata": {
      "needs_background": "light"
     },
     "output_type": "display_data"
    }
   ],
   "source": [
    "# Plotting the relation between \"budget_adj\" and \"vote_average\"\n",
    "plt.figure(figsize=(10, 8))\n",
    "plt.scatter(df['budget_adj'],df['vote_average'])\n",
    "plt.title('')\n",
    "plt.ylabel('Votes Avg')\n",
    "plt.xlabel('Budget');"
   ]
  },
  {
   "cell_type": "markdown",
   "id": "6b8e8779",
   "metadata": {},
   "source": [
    "No corelation whatsoever between movie's budget and its votes avg. meaning, spending more on a movie doesn't guarantee that the audience will perceive it as a good movie"
   ]
  },
  {
   "cell_type": "code",
   "execution_count": 20,
   "id": "dc4e6a96",
   "metadata": {},
   "outputs": [
    {
     "data": {
      "image/png": "[encoded data removed]",
      "text/plain": [
       "<Figure size 720x576 with 1 Axes>"
      ]
     },
     "metadata": {
      "needs_background": "light"
     },
     "output_type": "display_data"
    }
   ],
   "source": [
    "# Plotting the relation between \"budget_adj\" and \"gross_profit\"\n",
    "plt.figure(figsize=(10, 8))\n",
    "plt.scatter(df['budget_adj'],df['gross_profit'])\n",
    "plt.title('')\n",
    "plt.xlabel('Budget')\n",
    "plt.ylabel('Gross Profit');"
   ]
  },
  {
   "cell_type": "markdown",
   "id": "d20e49aa",
   "metadata": {},
   "source": [
    "No corelation whatsoever between movie's budget and its gross profit, you can even see that the movie with the largest budget have a negative gross profit!"
   ]
  },
  {
   "cell_type": "code",
   "execution_count": 21,
   "id": "b77da798",
   "metadata": {},
   "outputs": [
    {
     "data": {
      "image/png": "[encoded data removed]",
      "text/plain": [
       "<Figure size 720x576 with 1 Axes>"
      ]
     },
     "metadata": {
      "needs_background": "light"
     },
     "output_type": "display_data"
    }
   ],
   "source": [
    "# Plotting the relation between \"budget_adj\" and \"popularity\"\n",
    "plt.figure(figsize=(10, 8))\n",
    "plt.scatter(df['budget_adj'],df['popularity'])\n",
    "plt.title('')\n",
    "plt.xlabel('Budget')\n",
    "plt.ylabel('Popularity');"
   ]
  },
  {
   "cell_type": "markdown",
   "id": "1173890a",
   "metadata": {},
   "source": [
    "No corelation whatsoever between movie's budget and the its populartiy."
   ]
  },
  {
   "cell_type": "markdown",
   "id": "fae1038f",
   "metadata": {},
   "source": [
    "We can see that there is no corelation between the movie's budget and votes avg, gross profit, or popularity of the movie. **Movies with big budgets are not always successful movies.**\n"
   ]
  },
  {
   "cell_type": "markdown",
   "id": "8a0909f8",
   "metadata": {},
   "source": [
    "<a id='Q1'></a>\n",
    "### How does movie runtime affect its gross profit, votes avg, and popularity?"
   ]
  },
  {
   "cell_type": "code",
   "execution_count": 22,
   "id": "349dc48c",
   "metadata": {},
   "outputs": [
    {
     "data": {
      "image/png": "[encoded data removed]",
      "text/plain": [
       "<Figure size 432x288 with 1 Axes>"
      ]
     },
     "metadata": {
      "needs_background": "light"
     },
     "output_type": "display_data"
    }
   ],
   "source": [
    "# Plotting the relation between \"length\" and \"vote_average\" means.\n",
    "plt.bar(df.groupby('length').mean()['vote_average'].index,df.groupby('length').mean()['vote_average'].values)\n",
    "plt.title('')\n",
    "plt.xlabel('Runtime')\n",
    "plt.ylabel('Votes Avg');"
   ]
  },
  {
   "cell_type": "markdown",
   "id": "580602b4",
   "metadata": {},
   "source": [
    "We can see that the longer the movies the better score on average it gets. this is more visable in the line plot below."
   ]
  },
  {
   "cell_type": "code",
   "execution_count": 23,
   "id": "abe7c868",
   "metadata": {},
   "outputs": [
    {
     "data": {
      "image/png": "[encoded data removed]",
      "text/plain": [
       "<Figure size 432x288 with 1 Axes>"
      ]
     },
     "metadata": {
      "needs_background": "light"
     },
     "output_type": "display_data"
    }
   ],
   "source": [
    "# Plotting the relation between \"length\" and \"vote_average\" means.\n",
    "plt.plot(df.groupby('length').mean()['vote_average'].index,df.groupby('length').mean()['vote_average'].values)\n",
    "plt.title('')\n",
    "plt.xlabel('Runtime')\n",
    "plt.ylabel('Votes Avg');"
   ]
  },
  {
   "cell_type": "code",
   "execution_count": 24,
   "id": "daeecb4c",
   "metadata": {},
   "outputs": [
    {
     "data": {
      "image/png": "[encoded data removed]",
      "text/plain": [
       "<Figure size 432x288 with 1 Axes>"
      ]
     },
     "metadata": {
      "needs_background": "light"
     },
     "output_type": "display_data"
    }
   ],
   "source": [
    "# Plotting the relation between \"length\" and \"gross_profit\" means.\n",
    "plt.bar(df.groupby('length').mean()['gross_profit'].index,df.groupby('length').mean()['gross_profit'].values)\n",
    "plt.title('')\n",
    "plt.xlabel('Runtime')\n",
    "plt.ylabel('Gross Profit');"
   ]
  },
  {
   "cell_type": "markdown",
   "id": "cf696be5",
   "metadata": {},
   "source": [
    "We can see that the longer the movie, the more profitable it is, this is not surprising as we know that longer movies have a better rating on average, and better rated movies are more profitable."
   ]
  },
  {
   "cell_type": "code",
   "execution_count": 25,
   "id": "90644bc8",
   "metadata": {},
   "outputs": [
    {
     "data": {
      "image/png": "[encoded data removed]",
      "text/plain": [
       "<Figure size 432x288 with 1 Axes>"
      ]
     },
     "metadata": {
      "needs_background": "light"
     },
     "output_type": "display_data"
    }
   ],
   "source": [
    "# Plotting the relation between \"length\" and \"popularity\" means.\n",
    "plt.bar(df.groupby('length').mean()['popularity'].index,df.groupby('length').mean()['popularity'].values)\n",
    "plt.title('')\n",
    "plt.xlabel('Runtime')\n",
    "plt.ylabel('Popularity');"
   ]
  },
  {
   "cell_type": "markdown",
   "id": "0e38eebe",
   "metadata": {},
   "source": [
    "Same as previous, we know that longer movies have a better rating on average, and better rated movies are more popular. so again this is to be expected"
   ]
  },
  {
   "cell_type": "markdown",
   "id": "a601f431",
   "metadata": {},
   "source": [
    "From the previous analysis one can see that **successful movies tend to be long**"
   ]
  },
  {
   "cell_type": "markdown",
   "id": "cf356191",
   "metadata": {},
   "source": [
    "<a id='Q3'></a>\n",
    "### How does the length of movies change with time?"
   ]
  },
  {
   "cell_type": "code",
   "execution_count": 26,
   "id": "5f9e7e13",
   "metadata": {},
   "outputs": [
    {
     "data": {
      "image/png": "[encoded data removed]",
      "text/plain": [
       "<Figure size 432x288 with 1 Axes>"
      ]
     },
     "metadata": {
      "needs_background": "light"
     },
     "output_type": "display_data"
    }
   ],
   "source": [
    "# Plotting the relation between \"release_year\" and \"runtime\" means.\n",
    "plt.plot(df.groupby('release_year').mean()['runtime'].index,df.groupby('release_year').mean()['runtime'].values)\n",
    "plt.title('')\n",
    "plt.xlabel('Release Year')\n",
    "plt.ylabel('Runtime');"
   ]
  },
  {
   "cell_type": "markdown",
   "id": "204c99ee",
   "metadata": {},
   "source": [
    "We can see that the values before year \"1980\" is oscillating very violently, One can assume that because there is no enough data for this period, the data is dominated by outliers.\\\n",
    "lets check if that is true"
   ]
  },
  {
   "cell_type": "code",
   "execution_count": 27,
   "id": "34e02ed8",
   "metadata": {},
   "outputs": [
    {
     "data": {
      "text/plain": [
       "((127, 13), (2892, 13))"
      ]
     },
     "execution_count": 27,
     "metadata": {},
     "output_type": "execute_result"
    }
   ],
   "source": [
    "df[df['release_year']<1980].shape, df.shape"
   ]
  },
  {
   "cell_type": "markdown",
   "id": "eaa8ffac",
   "metadata": {},
   "source": [
    "We can see that only 127 movie out of 2892 (4.4%) in the data are released before 1980, so due to lake of data and to get meaning full statistics one will only consider movies released at 1980 onward."
   ]
  },
  {
   "cell_type": "code",
   "execution_count": 28,
   "id": "2e828f9b",
   "metadata": {},
   "outputs": [
    {
     "data": {
      "image/png": "[encoded data removed]",
      "text/plain": [
       "<Figure size 432x288 with 1 Axes>"
      ]
     },
     "metadata": {
      "needs_background": "light"
     },
     "output_type": "display_data"
    }
   ],
   "source": [
    "plt.plot(df[df['release_year']>=1980].groupby('release_year').mean()['runtime'].index,df[df['release_year']>=1980].groupby('release_year').mean()['runtime'].values,)\n",
    "plt.title('')\n",
    "plt.xlabel('Release Year')\n",
    "plt.ylabel('Runtime');"
   ]
  },
  {
   "cell_type": "markdown",
   "id": "8ecad079",
   "metadata": {},
   "source": [
    "It's clear that thier is **no coralation** between movies length and when were they released."
   ]
  },
  {
   "cell_type": "markdown",
   "id": "f515f24a",
   "metadata": {},
   "source": [
    "<a id='Q4'></a>\n",
    "### Are movies becoming better/more profitable with time?"
   ]
  },
  {
   "cell_type": "code",
   "execution_count": 29,
   "id": "210958e8",
   "metadata": {},
   "outputs": [
    {
     "data": {
      "image/png": "[encoded data removed]",
      "text/plain": [
       "<Figure size 432x288 with 1 Axes>"
      ]
     },
     "metadata": {
      "needs_background": "light"
     },
     "output_type": "display_data"
    }
   ],
   "source": [
    "# Plotting the relation between \"release_year\" and \"vote_average\" means.\n",
    "plt.plot(df[df['release_year']>=1980].groupby('release_year').mean()['vote_average'].index,df[df['release_year']>=1980].groupby('release_year').mean()['vote_average'].values)\n",
    "plt.title('')\n",
    "plt.xlabel('Release Year')\n",
    "plt.ylabel('Votes Avg');"
   ]
  },
  {
   "cell_type": "markdown",
   "id": "6422a943",
   "metadata": {},
   "source": [
    "It's clear that movies are getting lower and lower scores on average with time! "
   ]
  },
  {
   "cell_type": "code",
   "execution_count": 30,
   "id": "8823413f",
   "metadata": {},
   "outputs": [
    {
     "data": {
      "image/png": "[encoded data removed]",
      "text/plain": [
       "<Figure size 432x288 with 1 Axes>"
      ]
     },
     "metadata": {
      "needs_background": "light"
     },
     "output_type": "display_data"
    }
   ],
   "source": [
    "# Plotting the relation between \"release_year\" and \"budget_adj\"/\"gross_profit\" means.\n",
    "plt.plot(df[df['release_year']>=1980].groupby('release_year').mean()['budget_adj'].index,df[df['release_year']>=1980].groupby('release_year').mean()['budget_adj'].values, label='Budget')\n",
    "plt.plot(df[df['release_year']>=1980].groupby('release_year').mean()['gross_profit'].index,df[df['release_year']>=1980].groupby('release_year').mean()['gross_profit'].values, label='Gross Profit')\n",
    "plt.title('')\n",
    "plt.xlabel('Release Year')\n",
    "plt.ylabel('')\n",
    "plt.legend();"
   ]
  },
  {
   "cell_type": "markdown",
   "id": "de4aa9a9",
   "metadata": {},
   "source": [
    "We can see that despite the noticable grow in movie's budgets with time, the average profite per year is going down.\\\n",
    "This may be because as we saw ealier, movies ratting is going down with time, but also this can be credited to the spreading of internet and pirated movies."
   ]
  },
  {
   "cell_type": "markdown",
   "id": "5987d838",
   "metadata": {},
   "source": [
    "# Top 100\n",
    "Here we will take a closer look on the top 100 movies with the highest votes avg score. and We will try to answer two questions.\n",
    "> <a href=\"#Q1_100\">Which genre have the largest presence in top 100?</a>\\\n",
    "> <a href=\"#Q2_100\">How popular each genre is?</a>, also we will try to answer the ultimate question:\\\n",
    "> <a href=\"#Q3_100\">Who is the greatest director of all time?</a>, spoiler alert, it's Christopher Nolan."
   ]
  },
  {
   "cell_type": "code",
   "execution_count": 31,
   "id": "4064acfa",
   "metadata": {},
   "outputs": [
    {
     "data": {
      "text/html": [
       "<div>\n",
       "<style scoped>\n",
       "    .dataframe tbody tr th:only-of-type {\n",
       "        vertical-align: middle;\n",
       "    }\n",
       "\n",
       "    .dataframe tbody tr th {\n",
       "        vertical-align: top;\n",
       "    }\n",
       "\n",
       "    .dataframe thead th {\n",
       "        text-align: right;\n",
       "    }\n",
       "</style>\n",
       "<table border=\"1\" class=\"dataframe\">\n",
       "  <thead>\n",
       "    <tr style=\"text-align: right;\">\n",
       "      <th></th>\n",
       "      <th>popularity</th>\n",
       "      <th>original_title</th>\n",
       "      <th>cast</th>\n",
       "      <th>director</th>\n",
       "      <th>runtime</th>\n",
       "      <th>genres</th>\n",
       "      <th>vote_count</th>\n",
       "      <th>vote_average</th>\n",
       "      <th>release_year</th>\n",
       "      <th>budget_adj</th>\n",
       "      <th>revenue_adj</th>\n",
       "      <th>gross_profit</th>\n",
       "      <th>length</th>\n",
       "    </tr>\n",
       "    <tr>\n",
       "      <th>id</th>\n",
       "      <th></th>\n",
       "      <th></th>\n",
       "      <th></th>\n",
       "      <th></th>\n",
       "      <th></th>\n",
       "      <th></th>\n",
       "      <th></th>\n",
       "      <th></th>\n",
       "      <th></th>\n",
       "      <th></th>\n",
       "      <th></th>\n",
       "      <th></th>\n",
       "      <th></th>\n",
       "    </tr>\n",
       "  </thead>\n",
       "  <tbody>\n",
       "    <tr>\n",
       "      <th>278</th>\n",
       "      <td>7.192039</td>\n",
       "      <td>The Shawshank Redemption</td>\n",
       "      <td>Tim Robbins|Morgan Freeman|Bob Gunton|William ...</td>\n",
       "      <td>Frank Darabont</td>\n",
       "      <td>142</td>\n",
       "      <td>Drama|Crime</td>\n",
       "      <td>5754</td>\n",
       "      <td>8.4</td>\n",
       "      <td>1994</td>\n",
       "      <td>3.677779e+07</td>\n",
       "      <td>4.169346e+07</td>\n",
       "      <td>4.915674e+06</td>\n",
       "      <td>very long</td>\n",
       "    </tr>\n",
       "    <tr>\n",
       "      <th>238</th>\n",
       "      <td>5.738034</td>\n",
       "      <td>The Godfather</td>\n",
       "      <td>Marlon Brando|Al Pacino|James Caan|Richard S. ...</td>\n",
       "      <td>Francis Ford Coppola</td>\n",
       "      <td>175</td>\n",
       "      <td>Drama|Crime</td>\n",
       "      <td>3970</td>\n",
       "      <td>8.3</td>\n",
       "      <td>1972</td>\n",
       "      <td>3.128737e+07</td>\n",
       "      <td>1.277914e+09</td>\n",
       "      <td>1.246626e+09</td>\n",
       "      <td>very long</td>\n",
       "    </tr>\n",
       "    <tr>\n",
       "      <th>244786</th>\n",
       "      <td>4.780419</td>\n",
       "      <td>Whiplash</td>\n",
       "      <td>Miles Teller|J.K. Simmons|Melissa Benoist|Aust...</td>\n",
       "      <td>Damien Chazelle</td>\n",
       "      <td>105</td>\n",
       "      <td>Drama|Music</td>\n",
       "      <td>2372</td>\n",
       "      <td>8.2</td>\n",
       "      <td>2014</td>\n",
       "      <td>3.039600e+06</td>\n",
       "      <td>1.288891e+07</td>\n",
       "      <td>9.849312e+06</td>\n",
       "      <td>short</td>\n",
       "    </tr>\n",
       "    <tr>\n",
       "      <th>155</th>\n",
       "      <td>8.466668</td>\n",
       "      <td>The Dark Knight</td>\n",
       "      <td>Christian Bale|Michael Caine|Heath Ledger|Aaro...</td>\n",
       "      <td>Christopher Nolan</td>\n",
       "      <td>152</td>\n",
       "      <td>Drama|Action|Crime|Thriller</td>\n",
       "      <td>8432</td>\n",
       "      <td>8.1</td>\n",
       "      <td>2008</td>\n",
       "      <td>1.873655e+08</td>\n",
       "      <td>1.014733e+09</td>\n",
       "      <td>8.273675e+08</td>\n",
       "      <td>very long</td>\n",
       "    </tr>\n",
       "    <tr>\n",
       "      <th>550</th>\n",
       "      <td>8.947905</td>\n",
       "      <td>Fight Club</td>\n",
       "      <td>Edward Norton|Brad Pitt|Meat Loaf|Jared Leto|H...</td>\n",
       "      <td>David Fincher</td>\n",
       "      <td>139</td>\n",
       "      <td>Drama</td>\n",
       "      <td>5923</td>\n",
       "      <td>8.1</td>\n",
       "      <td>1999</td>\n",
       "      <td>8.247033e+07</td>\n",
       "      <td>1.320229e+08</td>\n",
       "      <td>4.955256e+07</td>\n",
       "      <td>very long</td>\n",
       "    </tr>\n",
       "  </tbody>\n",
       "</table>\n",
       "</div>"
      ],
      "text/plain": [
       "        popularity            original_title  \\\n",
       "id                                             \n",
       "278       7.192039  The Shawshank Redemption   \n",
       "238       5.738034             The Godfather   \n",
       "244786    4.780419                  Whiplash   \n",
       "155       8.466668           The Dark Knight   \n",
       "550       8.947905                Fight Club   \n",
       "\n",
       "                                                     cast  \\\n",
       "id                                                          \n",
       "278     Tim Robbins|Morgan Freeman|Bob Gunton|William ...   \n",
       "238     Marlon Brando|Al Pacino|James Caan|Richard S. ...   \n",
       "244786  Miles Teller|J.K. Simmons|Melissa Benoist|Aust...   \n",
       "155     Christian Bale|Michael Caine|Heath Ledger|Aaro...   \n",
       "550     Edward Norton|Brad Pitt|Meat Loaf|Jared Leto|H...   \n",
       "\n",
       "                    director  runtime                       genres  \\\n",
       "id                                                                   \n",
       "278           Frank Darabont      142                  Drama|Crime   \n",
       "238     Francis Ford Coppola      175                  Drama|Crime   \n",
       "244786       Damien Chazelle      105                  Drama|Music   \n",
       "155        Christopher Nolan      152  Drama|Action|Crime|Thriller   \n",
       "550            David Fincher      139                        Drama   \n",
       "\n",
       "        vote_count  vote_average  release_year    budget_adj   revenue_adj  \\\n",
       "id                                                                           \n",
       "278           5754           8.4          1994  3.677779e+07  4.169346e+07   \n",
       "238           3970           8.3          1972  3.128737e+07  1.277914e+09   \n",
       "244786        2372           8.2          2014  3.039600e+06  1.288891e+07   \n",
       "155           8432           8.1          2008  1.873655e+08  1.014733e+09   \n",
       "550           5923           8.1          1999  8.247033e+07  1.320229e+08   \n",
       "\n",
       "        gross_profit     length  \n",
       "id                               \n",
       "278     4.915674e+06  very long  \n",
       "238     1.246626e+09  very long  \n",
       "244786  9.849312e+06      short  \n",
       "155     8.273675e+08  very long  \n",
       "550     4.955256e+07  very long  "
      ]
     },
     "execution_count": 31,
     "metadata": {},
     "output_type": "execute_result"
    }
   ],
   "source": [
    "# We will select the 100 movies with the highest \"vote_average\".\n",
    "# If there is a tie between multible movies at the end wit hthe same ratting, will select the movies with higher \"vote_count\".\n",
    "df_100=df.sort_values(by=['vote_average','vote_count'],ascending=False).iloc[0:100]\n",
    "df_100.head()"
   ]
  },
  {
   "cell_type": "markdown",
   "id": "3f21a761",
   "metadata": {},
   "source": [
    "A lot of movies have two or more genres, to fix this we will separate the row with multible genres to multible rows each with one genre"
   ]
  },
  {
   "cell_type": "code",
   "execution_count": 32,
   "id": "c52a6165",
   "metadata": {},
   "outputs": [],
   "source": [
    "# In fact I'll create a function that do that for any column in any dataframe. It could be useful in the future.\n",
    "def sperate_values(df_in,column):\n",
    "    df=df_in.copy()\n",
    "    df_list=[]\n",
    "    multi=df[df[column].str.contains('\\|')]\n",
    "    for i in multi.index:\n",
    "        things=multi.loc[i,column].split('|')\n",
    "        df.drop(i,axis=0,inplace=True)\n",
    "        for thing in things:\n",
    "            multi.loc[i,column]=thing\n",
    "            new=multi.loc[[i]]\n",
    "            df_list.append(new)\n",
    "    df_list.append(df)\n",
    "    df=pd.concat(df_list,axis=0)\n",
    "    return df"
   ]
  },
  {
   "cell_type": "code",
   "execution_count": 33,
   "id": "6dbd9721",
   "metadata": {},
   "outputs": [
    {
     "data": {
      "text/html": [
       "<div>\n",
       "<style scoped>\n",
       "    .dataframe tbody tr th:only-of-type {\n",
       "        vertical-align: middle;\n",
       "    }\n",
       "\n",
       "    .dataframe tbody tr th {\n",
       "        vertical-align: top;\n",
       "    }\n",
       "\n",
       "    .dataframe thead th {\n",
       "        text-align: right;\n",
       "    }\n",
       "</style>\n",
       "<table border=\"1\" class=\"dataframe\">\n",
       "  <thead>\n",
       "    <tr style=\"text-align: right;\">\n",
       "      <th></th>\n",
       "      <th>popularity</th>\n",
       "      <th>original_title</th>\n",
       "      <th>cast</th>\n",
       "      <th>director</th>\n",
       "      <th>runtime</th>\n",
       "      <th>genres</th>\n",
       "      <th>vote_count</th>\n",
       "      <th>vote_average</th>\n",
       "      <th>release_year</th>\n",
       "      <th>budget_adj</th>\n",
       "      <th>revenue_adj</th>\n",
       "      <th>gross_profit</th>\n",
       "      <th>length</th>\n",
       "    </tr>\n",
       "    <tr>\n",
       "      <th>id</th>\n",
       "      <th></th>\n",
       "      <th></th>\n",
       "      <th></th>\n",
       "      <th></th>\n",
       "      <th></th>\n",
       "      <th></th>\n",
       "      <th></th>\n",
       "      <th></th>\n",
       "      <th></th>\n",
       "      <th></th>\n",
       "      <th></th>\n",
       "      <th></th>\n",
       "      <th></th>\n",
       "    </tr>\n",
       "  </thead>\n",
       "  <tbody>\n",
       "    <tr>\n",
       "      <th>278</th>\n",
       "      <td>7.192039</td>\n",
       "      <td>The Shawshank Redemption</td>\n",
       "      <td>Tim Robbins|Morgan Freeman|Bob Gunton|William ...</td>\n",
       "      <td>Frank Darabont</td>\n",
       "      <td>142</td>\n",
       "      <td>Drama</td>\n",
       "      <td>5754</td>\n",
       "      <td>8.4</td>\n",
       "      <td>1994</td>\n",
       "      <td>3.677779e+07</td>\n",
       "      <td>4.169346e+07</td>\n",
       "      <td>4.915674e+06</td>\n",
       "      <td>very long</td>\n",
       "    </tr>\n",
       "    <tr>\n",
       "      <th>278</th>\n",
       "      <td>7.192039</td>\n",
       "      <td>The Shawshank Redemption</td>\n",
       "      <td>Tim Robbins|Morgan Freeman|Bob Gunton|William ...</td>\n",
       "      <td>Frank Darabont</td>\n",
       "      <td>142</td>\n",
       "      <td>Crime</td>\n",
       "      <td>5754</td>\n",
       "      <td>8.4</td>\n",
       "      <td>1994</td>\n",
       "      <td>3.677779e+07</td>\n",
       "      <td>4.169346e+07</td>\n",
       "      <td>4.915674e+06</td>\n",
       "      <td>very long</td>\n",
       "    </tr>\n",
       "    <tr>\n",
       "      <th>238</th>\n",
       "      <td>5.738034</td>\n",
       "      <td>The Godfather</td>\n",
       "      <td>Marlon Brando|Al Pacino|James Caan|Richard S. ...</td>\n",
       "      <td>Francis Ford Coppola</td>\n",
       "      <td>175</td>\n",
       "      <td>Drama</td>\n",
       "      <td>3970</td>\n",
       "      <td>8.3</td>\n",
       "      <td>1972</td>\n",
       "      <td>3.128737e+07</td>\n",
       "      <td>1.277914e+09</td>\n",
       "      <td>1.246626e+09</td>\n",
       "      <td>very long</td>\n",
       "    </tr>\n",
       "    <tr>\n",
       "      <th>238</th>\n",
       "      <td>5.738034</td>\n",
       "      <td>The Godfather</td>\n",
       "      <td>Marlon Brando|Al Pacino|James Caan|Richard S. ...</td>\n",
       "      <td>Francis Ford Coppola</td>\n",
       "      <td>175</td>\n",
       "      <td>Crime</td>\n",
       "      <td>3970</td>\n",
       "      <td>8.3</td>\n",
       "      <td>1972</td>\n",
       "      <td>3.128737e+07</td>\n",
       "      <td>1.277914e+09</td>\n",
       "      <td>1.246626e+09</td>\n",
       "      <td>very long</td>\n",
       "    </tr>\n",
       "    <tr>\n",
       "      <th>244786</th>\n",
       "      <td>4.780419</td>\n",
       "      <td>Whiplash</td>\n",
       "      <td>Miles Teller|J.K. Simmons|Melissa Benoist|Aust...</td>\n",
       "      <td>Damien Chazelle</td>\n",
       "      <td>105</td>\n",
       "      <td>Drama</td>\n",
       "      <td>2372</td>\n",
       "      <td>8.2</td>\n",
       "      <td>2014</td>\n",
       "      <td>3.039600e+06</td>\n",
       "      <td>1.288891e+07</td>\n",
       "      <td>9.849312e+06</td>\n",
       "      <td>short</td>\n",
       "    </tr>\n",
       "  </tbody>\n",
       "</table>\n",
       "</div>"
      ],
      "text/plain": [
       "        popularity            original_title  \\\n",
       "id                                             \n",
       "278       7.192039  The Shawshank Redemption   \n",
       "278       7.192039  The Shawshank Redemption   \n",
       "238       5.738034             The Godfather   \n",
       "238       5.738034             The Godfather   \n",
       "244786    4.780419                  Whiplash   \n",
       "\n",
       "                                                     cast  \\\n",
       "id                                                          \n",
       "278     Tim Robbins|Morgan Freeman|Bob Gunton|William ...   \n",
       "278     Tim Robbins|Morgan Freeman|Bob Gunton|William ...   \n",
       "238     Marlon Brando|Al Pacino|James Caan|Richard S. ...   \n",
       "238     Marlon Brando|Al Pacino|James Caan|Richard S. ...   \n",
       "244786  Miles Teller|J.K. Simmons|Melissa Benoist|Aust...   \n",
       "\n",
       "                    director  runtime genres  vote_count  vote_average  \\\n",
       "id                                                                       \n",
       "278           Frank Darabont      142  Drama        5754           8.4   \n",
       "278           Frank Darabont      142  Crime        5754           8.4   \n",
       "238     Francis Ford Coppola      175  Drama        3970           8.3   \n",
       "238     Francis Ford Coppola      175  Crime        3970           8.3   \n",
       "244786       Damien Chazelle      105  Drama        2372           8.2   \n",
       "\n",
       "        release_year    budget_adj   revenue_adj  gross_profit     length  \n",
       "id                                                                         \n",
       "278             1994  3.677779e+07  4.169346e+07  4.915674e+06  very long  \n",
       "278             1994  3.677779e+07  4.169346e+07  4.915674e+06  very long  \n",
       "238             1972  3.128737e+07  1.277914e+09  1.246626e+09  very long  \n",
       "238             1972  3.128737e+07  1.277914e+09  1.246626e+09  very long  \n",
       "244786          2014  3.039600e+06  1.288891e+07  9.849312e+06      short  "
      ]
     },
     "execution_count": 33,
     "metadata": {},
     "output_type": "execute_result"
    }
   ],
   "source": [
    "df_genres=sperate_values(df_100,'genres')\n",
    "df_genres.head()"
   ]
  },
  {
   "cell_type": "markdown",
   "id": "b92ab100",
   "metadata": {},
   "source": [
    "<a id='Q1_100'></a>\n",
    "### Which genre have the largest presence in top 100?\n",
    "let's look at the distribution of genres in the top 100 movies"
   ]
  },
  {
   "cell_type": "code",
   "execution_count": 34,
   "id": "be48f1e7",
   "metadata": {},
   "outputs": [
    {
     "data": {
      "image/png": "[encoded data removed]",
      "text/plain": [
       "<Figure size 720x720 with 1 Axes>"
      ]
     },
     "metadata": {
      "needs_background": "light"
     },
     "output_type": "display_data"
    }
   ],
   "source": [
    "# Plotting the relation between \"genres\" and \"genre_count\".\n",
    "plt.figure(figsize=(10, 10))\n",
    "plt.barh(df_genres.groupby('genres').count().index,df_genres.groupby('genres').count()['vote_average'].values)\n",
    "plt.title('')\n",
    "plt.xlabel('Count')\n",
    "plt.ylabel('Genres');"
   ]
  },
  {
   "cell_type": "markdown",
   "id": "15958368",
   "metadata": {},
   "source": [
    "We can see that \"Drama\" is the most presnet genre in the top 100 with a huge margin, one can assume that this is just because most of the movies are drama movies, so no wonder that the most presnet genre in the top 100 movies is \"Drama\"\\\n",
    "Lets test that."
   ]
  },
  {
   "cell_type": "code",
   "execution_count": 35,
   "id": "37ff0301",
   "metadata": {},
   "outputs": [
    {
     "data": {
      "text/plain": [
       "((1227, 13), (2892, 13))"
      ]
     },
     "execution_count": 35,
     "metadata": {},
     "output_type": "execute_result"
    }
   ],
   "source": [
    "df[df['genres'].str.contains('Drama')].shape,df.shape"
   ]
  },
  {
   "cell_type": "code",
   "execution_count": 36,
   "id": "11bf5cfd",
   "metadata": {},
   "outputs": [
    {
     "data": {
      "text/plain": [
       "((68, 13), (100, 13))"
      ]
     },
     "execution_count": 36,
     "metadata": {},
     "output_type": "execute_result"
    }
   ],
   "source": [
    "df_100[df_100['genres'].str.contains('Drama')].shape,df_100.shape"
   ]
  },
  {
   "cell_type": "markdown",
   "id": "72a168a8",
   "metadata": {},
   "source": [
    "We can see that only 1227 out of 2892 movies are drama movies, (42.4%), while 68 out of the top 100 movies (68%) are drama movies.\\\n",
    "So we conclude that the huge presence of drama movies in the top 100 is not just a manifestation of its abundancy."
   ]
  },
  {
   "cell_type": "markdown",
   "id": "a40b969c",
   "metadata": {},
   "source": [
    "<a id='Q2_100'></a>\n",
    "### How popular each genre is?\n",
    "Let's take a look at the average popualrity of each genre in the top 100 movies"
   ]
  },
  {
   "cell_type": "code",
   "execution_count": 37,
   "id": "9cfc6b2d",
   "metadata": {},
   "outputs": [
    {
     "data": {
      "image/png": "[encoded data removed]",
      "text/plain": [
       "<Figure size 720x720 with 1 Axes>"
      ]
     },
     "metadata": {
      "needs_background": "light"
     },
     "output_type": "display_data"
    }
   ],
   "source": [
    "# Plotting the relation between \"genres\" and \"popularity\" means.\n",
    "plt.figure(figsize=(10, 10))\n",
    "plt.barh(df_genres.groupby('genres').mean().index,df_genres.groupby('genres').mean()['popularity'].values)\n",
    "plt.title('')\n",
    "plt.xlabel('Popularity')\n",
    "plt.ylabel('Genres');"
   ]
  },
  {
   "cell_type": "markdown",
   "id": "d949de12",
   "metadata": {},
   "source": [
    "We can see that the most popular genres are Adventure and Sci-Fi, with Action and Western as a close second, and Family as third.\\\n",
    "This also shows a lot of very interesting and non trivial results,\n",
    "> 1- despite having the lower presence in the top 100, western are very popular.\\\n",
    "> 2- Animation movies is alos very popular despite the low presence in the top 100.\\\n",
    "> 3- Drama movies having average popularity despite being the most present genre in the top 100.\n",
    "\n",
    "This is very visable in the next graph"
   ]
  },
  {
   "cell_type": "code",
   "execution_count": 38,
   "id": "646d9b8c",
   "metadata": {},
   "outputs": [
    {
     "data": {
      "image/png": "[encoded data removed]",
      "text/plain": [
       "<Figure size 720x720 with 1 Axes>"
      ]
     },
     "metadata": {
      "needs_background": "light"
     },
     "output_type": "display_data"
    }
   ],
   "source": [
    "# Plotting the relation between \"genres\" and \"genre_count\"/\"popularity\" rescaled such that the hight of the maximum bar is one.\n",
    "plt.figure(figsize=(10, 10))\n",
    "plt.barh(df_genres.groupby('genres').count().index,df_genres.groupby('genres').count()['vote_count'].values/df_genres.groupby('genres').count()['vote_count'].values.max(),color='r',alpha=0.6,label='Count')\n",
    "plt.barh(df_genres.groupby('genres').mean().index,df_genres.groupby('genres').mean()['popularity'].values/df_genres.groupby('genres').mean()['popularity'].values.max(),color='b',alpha=0.6,label='Popularity')\n",
    "plt.title('')\n",
    "plt.xlabel('')\n",
    "plt.ylabel('Genre')\n",
    "plt.legend();"
   ]
  },
  {
   "cell_type": "markdown",
   "id": "3b885b99",
   "metadata": {},
   "source": [
    "<a id='Q3_100'></a>\n",
    "### Who is the greatest director of all time?"
   ]
  },
  {
   "cell_type": "markdown",
   "id": "33d38f9d",
   "metadata": {},
   "source": [
    "One good measure is to see how many movies directed by the same director is in the top 100.\\\n",
    "Again we see that some movies have two or more directors, we will use the already defined function to separate them."
   ]
  },
  {
   "cell_type": "code",
   "execution_count": 39,
   "id": "e8532397",
   "metadata": {},
   "outputs": [
    {
     "data": {
      "text/plain": [
       "(106, 13)"
      ]
     },
     "execution_count": 39,
     "metadata": {},
     "output_type": "execute_result"
    }
   ],
   "source": [
    "df_directors=sperate_values(df_100,'director')\n",
    "df_directors.shape"
   ]
  },
  {
   "cell_type": "markdown",
   "id": "62d9b58e",
   "metadata": {},
   "source": [
    "We will take a look at the count of movies directed by each director in the top 100, ignoring directors with only one movie in the top 100"
   ]
  },
  {
   "cell_type": "code",
   "execution_count": 40,
   "id": "252a2b59",
   "metadata": {},
   "outputs": [
    {
     "data": {
      "image/png": "[encoded data removed]",
      "text/plain": [
       "<Figure size 720x720 with 1 Axes>"
      ]
     },
     "metadata": {
      "needs_background": "light"
     },
     "output_type": "display_data"
    }
   ],
   "source": [
    "# Plotting the relation between \"director\" and \"director_count\".\n",
    "df_drt=df_directors.groupby('director').count()\n",
    "df_drt=df_drt[df_drt['vote_average']>1]\n",
    "df_drt=df_drt.sort_values(by='popularity',ascending=False)\n",
    "plt.figure(figsize=(10, 10))\n",
    "plt.barh(df_drt.index,df_drt['vote_count'].values)\n",
    "plt.title('')\n",
    "plt.ylabel('Director')\n",
    "plt.xlabel('Count');"
   ]
  },
  {
   "cell_type": "markdown",
   "id": "13d0c0bd",
   "metadata": {},
   "source": [
    "We can see that four directors (Christopher Nolan, Martin Scorsese, Stanley Kubrick, Quentin Tarantino) are tied with each have 5 movies in top 100.\\\n",
    "There must be only one \"Greatest Director of All Time\", so we will need to do some more work.\\\n",
    "First thing we can do is to see the precentage of each directors movies that is in top 100"
   ]
  },
  {
   "cell_type": "code",
   "execution_count": 41,
   "id": "5ced9820",
   "metadata": {},
   "outputs": [
    {
     "name": "stdout",
     "output_type": "stream",
     "text": [
      "Christopher Nolan have 5 movies in the top 100 out of total 8 he directed with a precentage = 62.5%\n",
      "Martin Scorsese have 5 movies in the top 100 out of total 16 he directed with a precentage = 31.25%\n",
      "Stanley Kubrick have 5 movies in the top 100 out of total 8 he directed with a precentage = 62.5%\n",
      "Quentin Tarantino have 5 movies in the top 100 out of total 12 he directed with a precentage = 41.66666666666667%\n"
     ]
    }
   ],
   "source": [
    "candidates=['Christopher Nolan', 'Martin Scorsese', 'Stanley Kubrick', 'Quentin Tarantino']\n",
    "for candidate in candidates:\n",
    "    all_count=df['director'].str.contains(candidate).sum()\n",
    "    top100_count=df_directors['director'].str.contains(candidate).sum()\n",
    "    print(f'{candidate} have {top100_count} movies in the top 100 out of total {all_count} he directed with a precentage = {top100_count/all_count*100}%')"
   ]
  },
  {
   "cell_type": "markdown",
   "id": "8643437f",
   "metadata": {},
   "source": [
    "We reduced the candidates to only two candidates (Christopher Nolan and Stanley Kubrick). We can compare between the mean score and the mean popularity of thier movies to see who will get the title."
   ]
  },
  {
   "cell_type": "code",
   "execution_count": 42,
   "id": "04595bd8",
   "metadata": {},
   "outputs": [
    {
     "data": {
      "image/png": "[encoded data removed]",
      "text/plain": [
       "<Figure size 432x288 with 1 Axes>"
      ]
     },
     "metadata": {
      "needs_background": "light"
     },
     "output_type": "display_data"
    }
   ],
   "source": [
    "plt.bar(['Christopher Nolan','Stanley Kubrick'],[df[df['director'] == 'Christopher Nolan']['vote_average'].mean(),df[df['director'] == 'Stanley Kubrick']['vote_average'].mean()])\n",
    "plt.title('')\n",
    "plt.ylabel('Mean Score')\n",
    "plt.xlabel('Director');"
   ]
  },
  {
   "cell_type": "code",
   "execution_count": 43,
   "id": "062390da",
   "metadata": {},
   "outputs": [
    {
     "data": {
      "image/png": "[encoded data removed]",
      "text/plain": [
       "<Figure size 432x288 with 1 Axes>"
      ]
     },
     "metadata": {
      "needs_background": "light"
     },
     "output_type": "display_data"
    }
   ],
   "source": [
    "plt.bar(['Christopher Nolan','Stanley Kubrick'],[df[df['director'] == 'Christopher Nolan']['popularity'].mean(),df[df['director'] == 'Stanley Kubrick']['popularity'].mean()])\n",
    "plt.title('')\n",
    "plt.ylabel('Mean Popularity')\n",
    "plt.xlabel('Director');"
   ]
  },
  {
   "cell_type": "markdown",
   "id": "5acbcda7",
   "metadata": {},
   "source": [
    "We can see that Nolan wins in both cases, The difference in thier movies score is very slim, but the difference in the popularity of thier movies is very huge."
   ]
  },
  {
   "cell_type": "markdown",
   "id": "516f0152",
   "metadata": {},
   "source": [
    "<a id='conclusions'></a>\n",
    "## Conclusions\n",
    "<ul>\n",
    "<li>There is no corelation between the movie's budget and votes avg, gross profit, or popularity of the movie. Movies with big budgets are not always successful movies.</li>\n",
    "<li>Successful movies tend to be long.</li>\n",
    "<li>Thier is no coralation between movies length and when were they released.</li>\n",
    "<li>Movies are getting lower and lower scores on average with time!</li>\n",
    "<li>Despite the noticable grow in movie's budgets with time, the average profite per year is going down.</li>\n",
    "<li>The genre with the larges presence in the top 100 movies is \"Drama\", and that huge presence is not just a manifestation of its abundancy.</li> \n",
    "<li>The most popular genres are Adventure and Sci-Fi, with Action and Western as a close second, and Family as third.</li>\n",
    "<li>Western and Animation movies are very popular but have low presence in the top 100.</li>\n",
    "<li>Drama movies have average popularity despite being the most present genre in the top 100.</li>\n",
    "<li>Christopher Nolan is the greatest director of all time.</li> \n",
    "</ul>\n"
   ]
  },
  {
   "cell_type": "markdown",
   "id": "0cbfe67d",
   "metadata": {},
   "source": [
    "<a id='limit'></a>\n",
    "## Limitation\n",
    "The only limitation to this analysis is the lack of data for movies released before 1980, as we saw earlier there is only 127 entries, this makes the analysis for this era a kind of impossible as an outlier will render the analysis faulty"
   ]
  }
 ],
 "metadata": {
  "kernelspec": {
   "display_name": "Python 3 (ipykernel)",
   "language": "python",
   "name": "python3"
  },
  "language_info": {
   "codemirror_mode": {
    "name": "ipython",
    "version": 3
   },
   "file_extension": ".py",
   "mimetype": "text/x-python",
   "name": "python",
   "nbconvert_exporter": "python",
   "pygments_lexer": "ipython3",
   "version": "3.10.2"
  }
 },
 "nbformat": 4,
 "nbformat_minor": 5
}
